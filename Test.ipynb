{
 "cells": [
  {
   "cell_type": "code",
   "execution_count": 1,
   "metadata": {},
   "outputs": [],
   "source": [
    "from importlib import reload\n",
    "import tensorflow as tf"
   ]
  },
  {
   "cell_type": "code",
   "execution_count": 2,
   "metadata": {},
   "outputs": [
    {
     "name": "stderr",
     "output_type": "stream",
     "text": [
      "2023-12-08 23:15:47.575276: I tensorflow/core/platform/cpu_feature_guard.cc:193] This TensorFlow binary is optimized with oneAPI Deep Neural Network Library (oneDNN) to use the following CPU instructions in performance-critical operations:  AVX2 FMA\n",
      "To enable them in other operations, rebuild TensorFlow with the appropriate compiler flags.\n",
      "2023-12-08 23:16:36.556133: W tensorflow/compiler/xla/stream_executor/platform/default/dso_loader.cc:64] Could not load dynamic library 'libnvinfer.so.7'; dlerror: libnvinfer.so.7: cannot open shared object file: No such file or directory\n",
      "2023-12-08 23:16:36.557117: W tensorflow/compiler/xla/stream_executor/platform/default/dso_loader.cc:64] Could not load dynamic library 'libnvinfer_plugin.so.7'; dlerror: libnvinfer_plugin.so.7: cannot open shared object file: No such file or directory\n",
      "2023-12-08 23:16:36.557157: W tensorflow/compiler/tf2tensorrt/utils/py_utils.cc:38] TF-TRT Warning: Cannot dlopen some TensorRT libraries. If you would like to use Nvidia GPU with TensorRT, please make sure the missing libraries mentioned above are installed properly.\n"
     ]
    }
   ],
   "source": []
  },
  {
   "cell_type": "code",
   "execution_count": 10,
   "metadata": {},
   "outputs": [],
   "source": [
    "import modules_tf"
   ]
  },
  {
   "cell_type": "code",
   "execution_count": 22,
   "metadata": {},
   "outputs": [
    {
     "data": {
      "text/plain": [
       "<module 'modules_tf' from '/home/melih/Code/uni/Diffusion_Models/modules_tf.py'>"
      ]
     },
     "execution_count": 22,
     "metadata": {},
     "output_type": "execute_result"
    }
   ],
   "source": [
    "reload(modules_tf)"
   ]
  },
  {
   "cell_type": "code",
   "execution_count": 23,
   "metadata": {},
   "outputs": [
    {
     "name": "stderr",
     "output_type": "stream",
     "text": [
      "2023-12-08 23:32:45.270461: E tensorflow/compiler/xla/stream_executor/cuda/cuda_driver.cc:267] failed call to cuInit: CUDA_ERROR_NO_DEVICE: no CUDA-capable device is detected\n"
     ]
    }
   ],
   "source": [
    "d_conv = modules_tf.DoubleConv(3, 64)"
   ]
  },
  {
   "cell_type": "code",
   "execution_count": 25,
   "metadata": {},
   "outputs": [
    {
     "name": "stderr",
     "output_type": "stream",
     "text": [
      "2023-12-08 23:35:04.839094: W tensorflow/tsl/framework/cpu_allocator_impl.cc:82] Allocation of 16777216 exceeds 10% of free system memory.\n",
      "2023-12-08 23:35:06.070779: W tensorflow/tsl/framework/cpu_allocator_impl.cc:82] Allocation of 16777216 exceeds 10% of free system memory.\n",
      "2023-12-08 23:35:06.205864: W tensorflow/tsl/framework/cpu_allocator_impl.cc:82] Allocation of 16777216 exceeds 10% of free system memory.\n",
      "2023-12-08 23:35:06.213739: W tensorflow/tsl/framework/cpu_allocator_impl.cc:82] Allocation of 16777216 exceeds 10% of free system memory.\n",
      "2023-12-08 23:35:06.259543: W tensorflow/tsl/framework/cpu_allocator_impl.cc:82] Allocation of 16777216 exceeds 10% of free system memory.\n"
     ]
    },
    {
     "data": {
      "text/plain": [
       "<tf.Tensor: shape=(1, 256, 256, 3), dtype=float32, numpy=\n",
       "array([[[[ 0.06441979, -0.5418533 ,  0.6265696 ],\n",
       "         [ 0.40405682,  0.27712122, -0.27934968],\n",
       "         [ 0.81685513, -1.021141  ,  1.2628567 ],\n",
       "         ...,\n",
       "         [ 0.10508684, -0.0628521 ,  0.49834526],\n",
       "         [ 0.2930823 , -0.20282033,  0.64815515],\n",
       "         [ 0.30996397, -0.31930777,  0.12397163]],\n",
       "\n",
       "        [[ 0.50288755, -0.18244427,  0.5126852 ],\n",
       "         [ 1.2053512 , -1.0447065 ,  0.7900655 ],\n",
       "         [ 1.4706413 , -0.9452817 ,  0.16460553],\n",
       "         ...,\n",
       "         [ 1.9311881 , -0.65541726,  2.1312356 ],\n",
       "         [ 0.39155376, -1.154349  ,  0.11183838],\n",
       "         [ 0.44675115,  0.23601964,  0.01324912]],\n",
       "\n",
       "        [[-0.12602141, -0.41085395,  0.02861717],\n",
       "         [ 1.0744195 , -1.4888155 , -0.17024082],\n",
       "         [ 0.52551067, -1.8385175 , -0.06136885],\n",
       "         ...,\n",
       "         [ 1.6479132 ,  0.9227814 ,  0.04364912],\n",
       "         [ 0.8509669 , -1.0123763 ,  0.9735272 ],\n",
       "         [ 0.13445348,  0.5142796 ,  0.6318266 ]],\n",
       "\n",
       "        ...,\n",
       "\n",
       "        [[-0.07321228, -0.6031924 , -0.8100726 ],\n",
       "         [ 0.6607724 , -1.1363124 , -0.49417228],\n",
       "         [ 0.2993197 , -1.5541137 ,  0.13374105],\n",
       "         ...,\n",
       "         [ 0.10925082, -0.81578946,  0.33071247],\n",
       "         [ 0.40250936,  0.5962552 , -0.53844655],\n",
       "         [-0.24278256, -0.7445128 ,  0.01027703]],\n",
       "\n",
       "        [[ 0.09045837, -0.54307914, -0.8954687 ],\n",
       "         [ 1.3070493 , -1.2965275 ,  0.442373  ],\n",
       "         [ 1.2363873 , -0.8178406 , -0.7436755 ],\n",
       "         ...,\n",
       "         [ 0.65355515, -1.6590601 ,  0.13955447],\n",
       "         [-0.15906921, -0.89113045, -0.34976426],\n",
       "         [ 0.41332057,  0.05239475,  0.19645408]],\n",
       "\n",
       "        [[ 0.17006525, -0.22804093,  0.02720011],\n",
       "         [ 0.91382164, -0.7828616 , -0.28590164],\n",
       "         [ 0.13417992, -1.2402995 , -0.25382087],\n",
       "         ...,\n",
       "         [ 0.3653616 , -0.5955544 , -0.348605  ],\n",
       "         [ 0.8556926 , -0.16877052, -0.5991684 ],\n",
       "         [-0.26587725,  0.12670124, -0.166648  ]]]], dtype=float32)>"
      ]
     },
     "execution_count": 25,
     "metadata": {},
     "output_type": "execute_result"
    }
   ],
   "source": [
    "d_conv(tf.random.uniform((1, 256, 256, 3)))"
   ]
  }
 ],
 "metadata": {
  "kernelspec": {
   "display_name": "quest_assist",
   "language": "python",
   "name": "python3"
  },
  "language_info": {
   "codemirror_mode": {
    "name": "ipython",
    "version": 3
   },
   "file_extension": ".py",
   "mimetype": "text/x-python",
   "name": "python",
   "nbconvert_exporter": "python",
   "pygments_lexer": "ipython3",
   "version": "3.10.6"
  }
 },
 "nbformat": 4,
 "nbformat_minor": 2
}
